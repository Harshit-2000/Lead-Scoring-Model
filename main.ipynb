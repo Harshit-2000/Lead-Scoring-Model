{
 "cells": [
  {
   "cell_type": "code",
   "execution_count": 40,
   "id": "b285978d",
   "metadata": {
    "scrolled": false
   },
   "outputs": [],
   "source": [
    "import pandas as pd\n",
    "import numpy as np\n",
    "\n",
    "import seaborn as sns\n",
    "import matplotlib.pyplot as plt\n",
    "\n",
    "from datetime import datetime\n",
    "\n",
    "from sklearn.preprocessing import OneHotEncoder\n",
    "from sklearn.model_selection import train_test_split\n",
    "\n",
    "from imblearn.over_sampling import SMOTEN\n",
    "\n",
    "from sklearn.feature_selection import SelectKBest, chi2\n",
    "from sklearn.tree import DecisionTreeClassifier\n",
    "\n",
    "from sklearn.metrics import accuracy_score, f1_score\n",
    "\n",
    "from sklearn.metrics import classification_report, confusion_matrix"
   ]
  },
  {
   "cell_type": "code",
   "execution_count": 2,
   "id": "e64c4d56",
   "metadata": {
    "scrolled": true
   },
   "outputs": [
    {
     "data": {
      "text/html": [
       "<div>\n",
       "<style scoped>\n",
       "    .dataframe tbody tr th:only-of-type {\n",
       "        vertical-align: middle;\n",
       "    }\n",
       "\n",
       "    .dataframe tbody tr th {\n",
       "        vertical-align: top;\n",
       "    }\n",
       "\n",
       "    .dataframe thead th {\n",
       "        text-align: right;\n",
       "    }\n",
       "</style>\n",
       "<table border=\"1\" class=\"dataframe\">\n",
       "  <thead>\n",
       "    <tr style=\"text-align: right;\">\n",
       "      <th></th>\n",
       "      <th>Agent_id</th>\n",
       "      <th>status</th>\n",
       "      <th>lost_reason</th>\n",
       "      <th>budget</th>\n",
       "      <th>lease</th>\n",
       "      <th>movein</th>\n",
       "      <th>source</th>\n",
       "      <th>source_city</th>\n",
       "      <th>source_country</th>\n",
       "      <th>utm_source</th>\n",
       "      <th>utm_medium</th>\n",
       "      <th>des_city</th>\n",
       "      <th>des_country</th>\n",
       "      <th>room_type</th>\n",
       "      <th>lead_id</th>\n",
       "    </tr>\n",
       "  </thead>\n",
       "  <tbody>\n",
       "    <tr>\n",
       "      <th>0</th>\n",
       "      <td>1deba9e96f404694373de9749ddd1ca8aa7bb823145a6f...</td>\n",
       "      <td>LOST</td>\n",
       "      <td>Not responding</td>\n",
       "      <td>NaN</td>\n",
       "      <td>NaN</td>\n",
       "      <td>NaN</td>\n",
       "      <td>NaN</td>\n",
       "      <td>NaN</td>\n",
       "      <td>NaN</td>\n",
       "      <td>3d59f7548e1af2151b64135003ce63c0a484c26b9b8b16...</td>\n",
       "      <td>268ad70eb5bc4737a2ae28162cbca30118cc94520e49ef...</td>\n",
       "      <td>ecc0e7dc084f141b29479058967d0bc07dee25d9690a98...</td>\n",
       "      <td>8d23a6e37e0a6431a8f1b43a91026dcff51170a89a6512...</td>\n",
       "      <td>NaN</td>\n",
       "      <td>cd5dc0d9393f3980d11d4ba6f88f8110c2b7a7f7796307...</td>\n",
       "    </tr>\n",
       "    <tr>\n",
       "      <th>1</th>\n",
       "      <td>299ae77a4ef350ae0dd37d6bba1c002d03444fb1edb236...</td>\n",
       "      <td>LOST</td>\n",
       "      <td>Low budget</td>\n",
       "      <td>NaN</td>\n",
       "      <td>NaN</td>\n",
       "      <td>NaN</td>\n",
       "      <td>NaN</td>\n",
       "      <td>NaN</td>\n",
       "      <td>NaN</td>\n",
       "      <td>3d59f7548e1af2151b64135003ce63c0a484c26b9b8b16...</td>\n",
       "      <td>268ad70eb5bc4737a2ae28162cbca30118cc94520e49ef...</td>\n",
       "      <td>5372372f3bf5896820cb2819300c3e681820d82c6efc54...</td>\n",
       "      <td>8d23a6e37e0a6431a8f1b43a91026dcff51170a89a6512...</td>\n",
       "      <td>NaN</td>\n",
       "      <td>b94693673a5f7178d1b114e4004ad52377d3244dd24a3d...</td>\n",
       "    </tr>\n",
       "    <tr>\n",
       "      <th>2</th>\n",
       "      <td>c213697430c006013012dd2aca82dd9732aa0a1a6bca13...</td>\n",
       "      <td>LOST</td>\n",
       "      <td>Not responding</td>\n",
       "      <td>£121 - £180 Per Week</td>\n",
       "      <td>Full Year Course Stay 40 - 44 weeks</td>\n",
       "      <td>31/08/22</td>\n",
       "      <td>7aae3e886e89fc1187a5c47d6cea1c22998ee610ade1f2...</td>\n",
       "      <td>9b8cc3c63cdf447e463c11544924bf027945cbd29675f7...</td>\n",
       "      <td>e09e10e67812e9d236ad900e5d46b4308fc62f5d69446a...</td>\n",
       "      <td>bbdefa2950f49882f295b1285d4fa9dec45fc4144bfb07...</td>\n",
       "      <td>09076eb7665d1fb9389c7c4517fee0b00e43092eb34821...</td>\n",
       "      <td>11ab03a1a8c367191355c152f39fe28cae5e426fce49ef...</td>\n",
       "      <td>8d23a6e37e0a6431a8f1b43a91026dcff51170a89a6512...</td>\n",
       "      <td>Ensuite</td>\n",
       "      <td>96ea4e2bf04496c044745938c0299c264c3f4ba079e572...</td>\n",
       "    </tr>\n",
       "    <tr>\n",
       "      <th>3</th>\n",
       "      <td>eac9815a500f908736d303e23aa227f0957177b0e6756b...</td>\n",
       "      <td>LOST</td>\n",
       "      <td>Low budget</td>\n",
       "      <td>0-0</td>\n",
       "      <td>0</td>\n",
       "      <td>NaN</td>\n",
       "      <td>ba2d0a29556ac20f86f45e4543c0825428cba33fd7a9ea...</td>\n",
       "      <td>a5f0d2d08eb0592087e3a3a2f9c1ba2c67cc30f2efd2bd...</td>\n",
       "      <td>e09e10e67812e9d236ad900e5d46b4308fc62f5d69446a...</td>\n",
       "      <td>bbdefa2950f49882f295b1285d4fa9dec45fc4144bfb07...</td>\n",
       "      <td>09076eb7665d1fb9389c7c4517fee0b00e43092eb34821...</td>\n",
       "      <td>19372fa44c57a01c37a5a8418779ca3d99b0b59731fb35...</td>\n",
       "      <td>8d23a6e37e0a6431a8f1b43a91026dcff51170a89a6512...</td>\n",
       "      <td>NaN</td>\n",
       "      <td>1d2b34d8add02a182a4129023766ca4585a8ddced0e5b3...</td>\n",
       "    </tr>\n",
       "    <tr>\n",
       "      <th>4</th>\n",
       "      <td>1deba9e96f404694373de9749ddd1ca8aa7bb823145a6f...</td>\n",
       "      <td>LOST</td>\n",
       "      <td>Junk lead</td>\n",
       "      <td>NaN</td>\n",
       "      <td>NaN</td>\n",
       "      <td>NaN</td>\n",
       "      <td>NaN</td>\n",
       "      <td>NaN</td>\n",
       "      <td>NaN</td>\n",
       "      <td>3d59f7548e1af2151b64135003ce63c0a484c26b9b8b16...</td>\n",
       "      <td>268ad70eb5bc4737a2ae28162cbca30118cc94520e49ef...</td>\n",
       "      <td>NaN</td>\n",
       "      <td>NaN</td>\n",
       "      <td>NaN</td>\n",
       "      <td>fc10fffd29cfbe93c55158fb47752a7501c211d253468c...</td>\n",
       "    </tr>\n",
       "  </tbody>\n",
       "</table>\n",
       "</div>"
      ],
      "text/plain": [
       "                                            Agent_id status     lost_reason  \\\n",
       "0  1deba9e96f404694373de9749ddd1ca8aa7bb823145a6f...   LOST  Not responding   \n",
       "1  299ae77a4ef350ae0dd37d6bba1c002d03444fb1edb236...   LOST      Low budget   \n",
       "2  c213697430c006013012dd2aca82dd9732aa0a1a6bca13...   LOST  Not responding   \n",
       "3  eac9815a500f908736d303e23aa227f0957177b0e6756b...   LOST      Low budget   \n",
       "4  1deba9e96f404694373de9749ddd1ca8aa7bb823145a6f...   LOST       Junk lead   \n",
       "\n",
       "                 budget                                lease    movein  \\\n",
       "0                   NaN                                  NaN       NaN   \n",
       "1                   NaN                                  NaN       NaN   \n",
       "2  £121 - £180 Per Week  Full Year Course Stay 40 - 44 weeks  31/08/22   \n",
       "3                   0-0                                    0       NaN   \n",
       "4                   NaN                                  NaN       NaN   \n",
       "\n",
       "                                              source  \\\n",
       "0                                                NaN   \n",
       "1                                                NaN   \n",
       "2  7aae3e886e89fc1187a5c47d6cea1c22998ee610ade1f2...   \n",
       "3  ba2d0a29556ac20f86f45e4543c0825428cba33fd7a9ea...   \n",
       "4                                                NaN   \n",
       "\n",
       "                                         source_city  \\\n",
       "0                                                NaN   \n",
       "1                                                NaN   \n",
       "2  9b8cc3c63cdf447e463c11544924bf027945cbd29675f7...   \n",
       "3  a5f0d2d08eb0592087e3a3a2f9c1ba2c67cc30f2efd2bd...   \n",
       "4                                                NaN   \n",
       "\n",
       "                                      source_country  \\\n",
       "0                                                NaN   \n",
       "1                                                NaN   \n",
       "2  e09e10e67812e9d236ad900e5d46b4308fc62f5d69446a...   \n",
       "3  e09e10e67812e9d236ad900e5d46b4308fc62f5d69446a...   \n",
       "4                                                NaN   \n",
       "\n",
       "                                          utm_source  \\\n",
       "0  3d59f7548e1af2151b64135003ce63c0a484c26b9b8b16...   \n",
       "1  3d59f7548e1af2151b64135003ce63c0a484c26b9b8b16...   \n",
       "2  bbdefa2950f49882f295b1285d4fa9dec45fc4144bfb07...   \n",
       "3  bbdefa2950f49882f295b1285d4fa9dec45fc4144bfb07...   \n",
       "4  3d59f7548e1af2151b64135003ce63c0a484c26b9b8b16...   \n",
       "\n",
       "                                          utm_medium  \\\n",
       "0  268ad70eb5bc4737a2ae28162cbca30118cc94520e49ef...   \n",
       "1  268ad70eb5bc4737a2ae28162cbca30118cc94520e49ef...   \n",
       "2  09076eb7665d1fb9389c7c4517fee0b00e43092eb34821...   \n",
       "3  09076eb7665d1fb9389c7c4517fee0b00e43092eb34821...   \n",
       "4  268ad70eb5bc4737a2ae28162cbca30118cc94520e49ef...   \n",
       "\n",
       "                                            des_city  \\\n",
       "0  ecc0e7dc084f141b29479058967d0bc07dee25d9690a98...   \n",
       "1  5372372f3bf5896820cb2819300c3e681820d82c6efc54...   \n",
       "2  11ab03a1a8c367191355c152f39fe28cae5e426fce49ef...   \n",
       "3  19372fa44c57a01c37a5a8418779ca3d99b0b59731fb35...   \n",
       "4                                                NaN   \n",
       "\n",
       "                                         des_country room_type  \\\n",
       "0  8d23a6e37e0a6431a8f1b43a91026dcff51170a89a6512...       NaN   \n",
       "1  8d23a6e37e0a6431a8f1b43a91026dcff51170a89a6512...       NaN   \n",
       "2  8d23a6e37e0a6431a8f1b43a91026dcff51170a89a6512...   Ensuite   \n",
       "3  8d23a6e37e0a6431a8f1b43a91026dcff51170a89a6512...       NaN   \n",
       "4                                                NaN       NaN   \n",
       "\n",
       "                                             lead_id  \n",
       "0  cd5dc0d9393f3980d11d4ba6f88f8110c2b7a7f7796307...  \n",
       "1  b94693673a5f7178d1b114e4004ad52377d3244dd24a3d...  \n",
       "2  96ea4e2bf04496c044745938c0299c264c3f4ba079e572...  \n",
       "3  1d2b34d8add02a182a4129023766ca4585a8ddced0e5b3...  \n",
       "4  fc10fffd29cfbe93c55158fb47752a7501c211d253468c...  "
      ]
     },
     "execution_count": 2,
     "metadata": {},
     "output_type": "execute_result"
    }
   ],
   "source": [
    "df = pd.read_csv('./Data_Science_Internship - Dump.csv')\n",
    "\n",
    "# Setting coulumns with None value to None \n",
    "df = df.drop(['Unnamed: 0'], axis = 1)\n",
    "df = df.replace('9b2d5b4678781e53038e91ea5324530a03f27dc1d0e5f6c9bc9d493a23be9de0', np.nan)\n",
    "\n",
    "# Droping rows where status is not LOST or WON\n",
    "df = df[(df['status'] == 'WON') | (df['status'] == 'LOST')]\n",
    "\n",
    "df.head()"
   ]
  },
  {
   "cell_type": "code",
   "execution_count": 3,
   "id": "44d1e210",
   "metadata": {
    "scrolled": false
   },
   "outputs": [
    {
     "data": {
      "text/plain": [
       "(46317, 15)"
      ]
     },
     "execution_count": 3,
     "metadata": {},
     "output_type": "execute_result"
    }
   ],
   "source": [
    "df.shape"
   ]
  },
  {
   "cell_type": "code",
   "execution_count": 4,
   "id": "ce8e5b4d",
   "metadata": {
    "scrolled": true
   },
   "outputs": [
    {
     "data": {
      "text/plain": [
       "Index(['Agent_id', 'status', 'lost_reason', 'budget', 'lease', 'movein',\n",
       "       'source', 'source_city', 'source_country', 'utm_source', 'utm_medium',\n",
       "       'des_city', 'des_country', 'room_type', 'lead_id'],\n",
       "      dtype='object')"
      ]
     },
     "execution_count": 4,
     "metadata": {},
     "output_type": "execute_result"
    }
   ],
   "source": [
    "df.columns"
   ]
  },
  {
   "cell_type": "markdown",
   "id": "2ad3fecb",
   "metadata": {},
   "source": [
    "## Data Analysis and Cleaning"
   ]
  },
  {
   "cell_type": "code",
   "execution_count": 5,
   "id": "4e111481",
   "metadata": {},
   "outputs": [
    {
     "name": "stdout",
     "output_type": "stream",
     "text": [
      "                Missing Values  Percentage\n",
      "Agent_id                     0        0.00\n",
      "status                       0        0.00\n",
      "lost_reason               3073        6.63\n",
      "budget                    3694        7.98\n",
      "lease                     2336        5.04\n",
      "movein                   13610       29.38\n",
      "source                    5951       12.85\n",
      "source_city               8831       19.07\n",
      "source_country            8622       18.62\n",
      "utm_source                  61        0.13\n",
      "utm_medium                3184        6.87\n",
      "des_city                  2529        5.46\n",
      "des_country               2529        5.46\n",
      "room_type                23491       50.72\n",
      "lead_id                      0        0.00\n"
     ]
    }
   ],
   "source": [
    "# Finding missing values and there percentage in the dataset\n",
    "\n",
    "missing_values = df.isnull().sum()\n",
    "missing_percent = round((df.isnull().sum()/df.shape[0])*100, 2)\n",
    "missing_data = pd.concat([missing_values, missing_percent], axis=1, keys=['Missing Values', 'Percentage'])\n",
    "print(missing_data)"
   ]
  },
  {
   "cell_type": "code",
   "execution_count": 6,
   "id": "0f234be9",
   "metadata": {},
   "outputs": [
    {
     "data": {
      "text/html": [
       "<div>\n",
       "<style scoped>\n",
       "    .dataframe tbody tr th:only-of-type {\n",
       "        vertical-align: middle;\n",
       "    }\n",
       "\n",
       "    .dataframe tbody tr th {\n",
       "        vertical-align: top;\n",
       "    }\n",
       "\n",
       "    .dataframe thead th {\n",
       "        text-align: right;\n",
       "    }\n",
       "</style>\n",
       "<table border=\"1\" class=\"dataframe\">\n",
       "  <thead>\n",
       "    <tr style=\"text-align: right;\">\n",
       "      <th></th>\n",
       "      <th>Winning Null (%)</th>\n",
       "      <th>Losing Null (%)</th>\n",
       "    </tr>\n",
       "  </thead>\n",
       "  <tbody>\n",
       "    <tr>\n",
       "      <th>Agent_id</th>\n",
       "      <td>0.00</td>\n",
       "      <td>0.00</td>\n",
       "    </tr>\n",
       "    <tr>\n",
       "      <th>status</th>\n",
       "      <td>0.00</td>\n",
       "      <td>0.00</td>\n",
       "    </tr>\n",
       "    <tr>\n",
       "      <th>lost_reason</th>\n",
       "      <td>100.00</td>\n",
       "      <td>0.00</td>\n",
       "    </tr>\n",
       "    <tr>\n",
       "      <th>budget</th>\n",
       "      <td>2.57</td>\n",
       "      <td>8.36</td>\n",
       "    </tr>\n",
       "    <tr>\n",
       "      <th>lease</th>\n",
       "      <td>1.82</td>\n",
       "      <td>5.27</td>\n",
       "    </tr>\n",
       "    <tr>\n",
       "      <th>movein</th>\n",
       "      <td>20.53</td>\n",
       "      <td>30.01</td>\n",
       "    </tr>\n",
       "    <tr>\n",
       "      <th>source</th>\n",
       "      <td>5.53</td>\n",
       "      <td>13.37</td>\n",
       "    </tr>\n",
       "    <tr>\n",
       "      <th>source_city</th>\n",
       "      <td>17.83</td>\n",
       "      <td>19.15</td>\n",
       "    </tr>\n",
       "    <tr>\n",
       "      <th>source_country</th>\n",
       "      <td>17.67</td>\n",
       "      <td>18.68</td>\n",
       "    </tr>\n",
       "    <tr>\n",
       "      <th>utm_source</th>\n",
       "      <td>0.10</td>\n",
       "      <td>0.13</td>\n",
       "    </tr>\n",
       "    <tr>\n",
       "      <th>utm_medium</th>\n",
       "      <td>15.42</td>\n",
       "      <td>6.27</td>\n",
       "    </tr>\n",
       "    <tr>\n",
       "      <th>des_city</th>\n",
       "      <td>1.95</td>\n",
       "      <td>5.71</td>\n",
       "    </tr>\n",
       "    <tr>\n",
       "      <th>des_country</th>\n",
       "      <td>1.95</td>\n",
       "      <td>5.71</td>\n",
       "    </tr>\n",
       "    <tr>\n",
       "      <th>room_type</th>\n",
       "      <td>52.46</td>\n",
       "      <td>50.59</td>\n",
       "    </tr>\n",
       "    <tr>\n",
       "      <th>lead_id</th>\n",
       "      <td>0.00</td>\n",
       "      <td>0.00</td>\n",
       "    </tr>\n",
       "  </tbody>\n",
       "</table>\n",
       "</div>"
      ],
      "text/plain": [
       "                Winning Null (%)  Losing Null (%)\n",
       "Agent_id                    0.00             0.00\n",
       "status                      0.00             0.00\n",
       "lost_reason               100.00             0.00\n",
       "budget                      2.57             8.36\n",
       "lease                       1.82             5.27\n",
       "movein                     20.53            30.01\n",
       "source                      5.53            13.37\n",
       "source_city                17.83            19.15\n",
       "source_country             17.67            18.68\n",
       "utm_source                  0.10             0.13\n",
       "utm_medium                 15.42             6.27\n",
       "des_city                    1.95             5.71\n",
       "des_country                 1.95             5.71\n",
       "room_type                  52.46            50.59\n",
       "lead_id                     0.00             0.00"
      ]
     },
     "execution_count": 6,
     "metadata": {},
     "output_type": "execute_result"
    }
   ],
   "source": [
    "\"\"\"\n",
    "    Calculating the percentage of null values in case when status is WON and when status is LOSE\n",
    "\"\"\"\n",
    "\n",
    "df_won = df[df['status'] == 'WON']\n",
    "df_lost = df[df['status'] == 'LOST']\n",
    "\n",
    "x = round(df_won.isnull().sum() * 100 / len(df_won), 2)\n",
    "y = round(df_lost.isnull().sum() * 100 / len(df_lost), 2)\n",
    "\n",
    "\n",
    "percentage_null_values = pd.concat([x, y], axis = 1)\n",
    "percentage_null_values.columns = ['Winning Null (%)', 'Losing Null (%)']\n",
    "percentage_null_values"
   ]
  },
  {
   "cell_type": "code",
   "execution_count": 7,
   "id": "56b894d8",
   "metadata": {},
   "outputs": [
    {
     "data": {
      "text/plain": [
       "<Axes: xlabel='room_type', ylabel='count'>"
      ]
     },
     "execution_count": 7,
     "metadata": {},
     "output_type": "execute_result"
    },
    {
     "data": {
      "image/png": "[encoded data removed]",
      "text/plain": [
       "<Figure size 640x480 with 1 Axes>"
      ]
     },
     "metadata": {},
     "output_type": "display_data"
    }
   ],
   "source": [
    "sns.countplot(x=\"room_type\", data=df[0:500], hue = 'status')"
   ]
  },
  {
   "cell_type": "code",
   "execution_count": 8,
   "id": "6da19058",
   "metadata": {},
   "outputs": [
    {
     "name": "stdout",
     "output_type": "stream",
     "text": [
      "(44906, 15)\n"
     ]
    }
   ],
   "source": [
    "# Filter out rows with more than 6 NaN values\n",
    "# This step removes 1411 rows which have more than 6 NaN values.\n",
    "\n",
    "df = df.dropna(thresh=df.shape[1] - 6)\n",
    "df = df.reset_index(drop = True)\n",
    "print(df.shape)"
   ]
  },
  {
   "cell_type": "code",
   "execution_count": 9,
   "id": "8206bca4",
   "metadata": {},
   "outputs": [
    {
     "name": "stdout",
     "output_type": "stream",
     "text": [
      "Column lead_id dropped successfully.\n",
      "room_type column dropped successfully.\n"
     ]
    }
   ],
   "source": [
    "# Dropping lead_id column\n",
    "df = df.drop(['lead_id'], axis = 1)\n",
    "print(\"Column lead_id dropped successfully.\")\n",
    "\n",
    "\n",
    "# Dropping column room_type as it has 50 percent null values in both WON and LOSS status\n",
    "df = df.drop(['room_type'], axis = 1)\n",
    "print(\"room_type column dropped successfully.\")"
   ]
  },
  {
   "cell_type": "code",
   "execution_count": 10,
   "id": "35e3cfb2",
   "metadata": {},
   "outputs": [],
   "source": [
    "\"\"\"\n",
    "    Dealing with missing values.\n",
    "\"\"\"\n",
    "\n",
    "# Setting null values in columns lost_reason column to 'room booked'\n",
    "df['lost_reason'].fillna('room_booked', inplace = True)\n",
    "\n",
    "\n",
    "# Setting a new category 'unknown' for null values\n",
    "df['budget'].fillna('unknown', inplace = True)\n",
    "df['lease'].fillna('unknown', inplace = True)\n",
    "df['source'].fillna('unknown', inplace = True)\n",
    "df['source_city'].fillna('unknown', inplace = True)\n",
    "df['source_country'].fillna('unknown', inplace = True)\n",
    "df['utm_source'].fillna('unknown', inplace = True)\n",
    "df['utm_medium'].fillna('unknown', inplace = True)\n",
    "df['des_city'].fillna('unknown', inplace = True)\n",
    "df['des_country'].fillna('unknown', inplace = True)"
   ]
  },
  {
   "cell_type": "code",
   "execution_count": 11,
   "id": "b2ba4694",
   "metadata": {},
   "outputs": [
    {
     "name": "stdout",
     "output_type": "stream",
     "text": [
      "movein column dropped succesfully.\n"
     ]
    }
   ],
   "source": [
    "# After exploring various posibilites I have decided to drop the 'movein' column, it can lead to some performance issues in our \n",
    "# model.\n",
    "\n",
    "df = df.drop(['movein'], axis = 1)\n",
    "print(\"movein column dropped succesfully.\")"
   ]
  },
  {
   "cell_type": "code",
   "execution_count": 12,
   "id": "02567dbf",
   "metadata": {},
   "outputs": [
    {
     "data": {
      "text/html": [
       "<div>\n",
       "<style scoped>\n",
       "    .dataframe tbody tr th:only-of-type {\n",
       "        vertical-align: middle;\n",
       "    }\n",
       "\n",
       "    .dataframe tbody tr th {\n",
       "        vertical-align: top;\n",
       "    }\n",
       "\n",
       "    .dataframe thead th {\n",
       "        text-align: right;\n",
       "    }\n",
       "</style>\n",
       "<table border=\"1\" class=\"dataframe\">\n",
       "  <thead>\n",
       "    <tr style=\"text-align: right;\">\n",
       "      <th></th>\n",
       "      <th>Agent_id</th>\n",
       "      <th>status</th>\n",
       "      <th>lost_reason</th>\n",
       "      <th>budget</th>\n",
       "      <th>lease</th>\n",
       "      <th>source</th>\n",
       "      <th>source_city</th>\n",
       "      <th>source_country</th>\n",
       "      <th>utm_source</th>\n",
       "      <th>utm_medium</th>\n",
       "      <th>des_city</th>\n",
       "      <th>des_country</th>\n",
       "    </tr>\n",
       "  </thead>\n",
       "  <tbody>\n",
       "    <tr>\n",
       "      <th>0</th>\n",
       "      <td>c213697430c006013012dd2aca82dd9732aa0a1a6bca13...</td>\n",
       "      <td>LOST</td>\n",
       "      <td>Not responding</td>\n",
       "      <td>£121 - £180 Per Week</td>\n",
       "      <td>Full Year Course Stay 40 - 44 weeks</td>\n",
       "      <td>7aae3e886e89fc1187a5c47d6cea1c22998ee610ade1f2...</td>\n",
       "      <td>9b8cc3c63cdf447e463c11544924bf027945cbd29675f7...</td>\n",
       "      <td>e09e10e67812e9d236ad900e5d46b4308fc62f5d69446a...</td>\n",
       "      <td>bbdefa2950f49882f295b1285d4fa9dec45fc4144bfb07...</td>\n",
       "      <td>09076eb7665d1fb9389c7c4517fee0b00e43092eb34821...</td>\n",
       "      <td>11ab03a1a8c367191355c152f39fe28cae5e426fce49ef...</td>\n",
       "      <td>8d23a6e37e0a6431a8f1b43a91026dcff51170a89a6512...</td>\n",
       "    </tr>\n",
       "    <tr>\n",
       "      <th>1</th>\n",
       "      <td>eac9815a500f908736d303e23aa227f0957177b0e6756b...</td>\n",
       "      <td>LOST</td>\n",
       "      <td>Low budget</td>\n",
       "      <td>0-0</td>\n",
       "      <td>0</td>\n",
       "      <td>ba2d0a29556ac20f86f45e4543c0825428cba33fd7a9ea...</td>\n",
       "      <td>a5f0d2d08eb0592087e3a3a2f9c1ba2c67cc30f2efd2bd...</td>\n",
       "      <td>e09e10e67812e9d236ad900e5d46b4308fc62f5d69446a...</td>\n",
       "      <td>bbdefa2950f49882f295b1285d4fa9dec45fc4144bfb07...</td>\n",
       "      <td>09076eb7665d1fb9389c7c4517fee0b00e43092eb34821...</td>\n",
       "      <td>19372fa44c57a01c37a5a8418779ca3d99b0b59731fb35...</td>\n",
       "      <td>8d23a6e37e0a6431a8f1b43a91026dcff51170a89a6512...</td>\n",
       "    </tr>\n",
       "    <tr>\n",
       "      <th>2</th>\n",
       "      <td>2306878a9ad9b57686cd623dd285aaa9b25afdf627f651...</td>\n",
       "      <td>LOST</td>\n",
       "      <td>Wants private accommodation</td>\n",
       "      <td>120</td>\n",
       "      <td>semester-stay</td>\n",
       "      <td>7bcfca0e9d73371699b0adbf1c691e02108fa64f02f4db...</td>\n",
       "      <td>7b7f15f9ffbeb905caaee265ac39d267d0512ab5333f2f...</td>\n",
       "      <td>8da82000ef9c4468ba47362a924b895e40662fed846942...</td>\n",
       "      <td>bbdefa2950f49882f295b1285d4fa9dec45fc4144bfb07...</td>\n",
       "      <td>09076eb7665d1fb9389c7c4517fee0b00e43092eb34821...</td>\n",
       "      <td>f19d051291d4364989e4e957ef610448af3e05863ee1b8...</td>\n",
       "      <td>8d23a6e37e0a6431a8f1b43a91026dcff51170a89a6512...</td>\n",
       "    </tr>\n",
       "    <tr>\n",
       "      <th>3</th>\n",
       "      <td>2306878a9ad9b57686cd623dd285aaa9b25afdf627f651...</td>\n",
       "      <td>LOST</td>\n",
       "      <td>Short stay</td>\n",
       "      <td>0-0</td>\n",
       "      <td>0</td>\n",
       "      <td>9ba9134a91cfc6b52ac8d480e9ad37896ca4ac216e2d79...</td>\n",
       "      <td>3c1def48af45cb9748302f34e57f2cbeb866de95beb0d2...</td>\n",
       "      <td>e09e10e67812e9d236ad900e5d46b4308fc62f5d69446a...</td>\n",
       "      <td>4688fa9ce4f64d0451be91f30a3de24a1c1c41635bd221...</td>\n",
       "      <td>09076eb7665d1fb9389c7c4517fee0b00e43092eb34821...</td>\n",
       "      <td>ecc0e7dc084f141b29479058967d0bc07dee25d9690a98...</td>\n",
       "      <td>8d23a6e37e0a6431a8f1b43a91026dcff51170a89a6512...</td>\n",
       "    </tr>\n",
       "    <tr>\n",
       "      <th>4</th>\n",
       "      <td>44864c96fa1c36602f0d045b268981b6cab638a60fc207...</td>\n",
       "      <td>LOST</td>\n",
       "      <td>Wants private accommodation</td>\n",
       "      <td>£181 - £240 Per Week</td>\n",
       "      <td>51</td>\n",
       "      <td>7aae3e886e89fc1187a5c47d6cea1c22998ee610ade1f2...</td>\n",
       "      <td>8593b9db65212160979d946950601c26622a219c80f1f1...</td>\n",
       "      <td>e09e10e67812e9d236ad900e5d46b4308fc62f5d69446a...</td>\n",
       "      <td>bbdefa2950f49882f295b1285d4fa9dec45fc4144bfb07...</td>\n",
       "      <td>09076eb7665d1fb9389c7c4517fee0b00e43092eb34821...</td>\n",
       "      <td>8593b9db65212160979d946950601c26622a219c80f1f1...</td>\n",
       "      <td>8d23a6e37e0a6431a8f1b43a91026dcff51170a89a6512...</td>\n",
       "    </tr>\n",
       "  </tbody>\n",
       "</table>\n",
       "</div>"
      ],
      "text/plain": [
       "                                            Agent_id status  \\\n",
       "0  c213697430c006013012dd2aca82dd9732aa0a1a6bca13...   LOST   \n",
       "1  eac9815a500f908736d303e23aa227f0957177b0e6756b...   LOST   \n",
       "2  2306878a9ad9b57686cd623dd285aaa9b25afdf627f651...   LOST   \n",
       "3  2306878a9ad9b57686cd623dd285aaa9b25afdf627f651...   LOST   \n",
       "4  44864c96fa1c36602f0d045b268981b6cab638a60fc207...   LOST   \n",
       "\n",
       "                   lost_reason                budget  \\\n",
       "0               Not responding  £121 - £180 Per Week   \n",
       "1                   Low budget                   0-0   \n",
       "2  Wants private accommodation                   120   \n",
       "3                   Short stay                   0-0   \n",
       "4  Wants private accommodation  £181 - £240 Per Week   \n",
       "\n",
       "                                 lease  \\\n",
       "0  Full Year Course Stay 40 - 44 weeks   \n",
       "1                                    0   \n",
       "2                        semester-stay   \n",
       "3                                    0   \n",
       "4                                   51   \n",
       "\n",
       "                                              source  \\\n",
       "0  7aae3e886e89fc1187a5c47d6cea1c22998ee610ade1f2...   \n",
       "1  ba2d0a29556ac20f86f45e4543c0825428cba33fd7a9ea...   \n",
       "2  7bcfca0e9d73371699b0adbf1c691e02108fa64f02f4db...   \n",
       "3  9ba9134a91cfc6b52ac8d480e9ad37896ca4ac216e2d79...   \n",
       "4  7aae3e886e89fc1187a5c47d6cea1c22998ee610ade1f2...   \n",
       "\n",
       "                                         source_city  \\\n",
       "0  9b8cc3c63cdf447e463c11544924bf027945cbd29675f7...   \n",
       "1  a5f0d2d08eb0592087e3a3a2f9c1ba2c67cc30f2efd2bd...   \n",
       "2  7b7f15f9ffbeb905caaee265ac39d267d0512ab5333f2f...   \n",
       "3  3c1def48af45cb9748302f34e57f2cbeb866de95beb0d2...   \n",
       "4  8593b9db65212160979d946950601c26622a219c80f1f1...   \n",
       "\n",
       "                                      source_country  \\\n",
       "0  e09e10e67812e9d236ad900e5d46b4308fc62f5d69446a...   \n",
       "1  e09e10e67812e9d236ad900e5d46b4308fc62f5d69446a...   \n",
       "2  8da82000ef9c4468ba47362a924b895e40662fed846942...   \n",
       "3  e09e10e67812e9d236ad900e5d46b4308fc62f5d69446a...   \n",
       "4  e09e10e67812e9d236ad900e5d46b4308fc62f5d69446a...   \n",
       "\n",
       "                                          utm_source  \\\n",
       "0  bbdefa2950f49882f295b1285d4fa9dec45fc4144bfb07...   \n",
       "1  bbdefa2950f49882f295b1285d4fa9dec45fc4144bfb07...   \n",
       "2  bbdefa2950f49882f295b1285d4fa9dec45fc4144bfb07...   \n",
       "3  4688fa9ce4f64d0451be91f30a3de24a1c1c41635bd221...   \n",
       "4  bbdefa2950f49882f295b1285d4fa9dec45fc4144bfb07...   \n",
       "\n",
       "                                          utm_medium  \\\n",
       "0  09076eb7665d1fb9389c7c4517fee0b00e43092eb34821...   \n",
       "1  09076eb7665d1fb9389c7c4517fee0b00e43092eb34821...   \n",
       "2  09076eb7665d1fb9389c7c4517fee0b00e43092eb34821...   \n",
       "3  09076eb7665d1fb9389c7c4517fee0b00e43092eb34821...   \n",
       "4  09076eb7665d1fb9389c7c4517fee0b00e43092eb34821...   \n",
       "\n",
       "                                            des_city  \\\n",
       "0  11ab03a1a8c367191355c152f39fe28cae5e426fce49ef...   \n",
       "1  19372fa44c57a01c37a5a8418779ca3d99b0b59731fb35...   \n",
       "2  f19d051291d4364989e4e957ef610448af3e05863ee1b8...   \n",
       "3  ecc0e7dc084f141b29479058967d0bc07dee25d9690a98...   \n",
       "4  8593b9db65212160979d946950601c26622a219c80f1f1...   \n",
       "\n",
       "                                         des_country  \n",
       "0  8d23a6e37e0a6431a8f1b43a91026dcff51170a89a6512...  \n",
       "1  8d23a6e37e0a6431a8f1b43a91026dcff51170a89a6512...  \n",
       "2  8d23a6e37e0a6431a8f1b43a91026dcff51170a89a6512...  \n",
       "3  8d23a6e37e0a6431a8f1b43a91026dcff51170a89a6512...  \n",
       "4  8d23a6e37e0a6431a8f1b43a91026dcff51170a89a6512...  "
      ]
     },
     "execution_count": 12,
     "metadata": {},
     "output_type": "execute_result"
    }
   ],
   "source": [
    "df.head()"
   ]
  },
  {
   "cell_type": "code",
   "execution_count": 13,
   "id": "6250d4b8",
   "metadata": {
    "scrolled": true
   },
   "outputs": [
    {
     "data": {
      "text/html": [
       "<div>\n",
       "<style scoped>\n",
       "    .dataframe tbody tr th:only-of-type {\n",
       "        vertical-align: middle;\n",
       "    }\n",
       "\n",
       "    .dataframe tbody tr th {\n",
       "        vertical-align: top;\n",
       "    }\n",
       "\n",
       "    .dataframe thead th {\n",
       "        text-align: right;\n",
       "    }\n",
       "</style>\n",
       "<table border=\"1\" class=\"dataframe\">\n",
       "  <thead>\n",
       "    <tr style=\"text-align: right;\">\n",
       "      <th></th>\n",
       "      <th>Agent_id</th>\n",
       "      <th>status</th>\n",
       "      <th>lost_reason</th>\n",
       "      <th>budget</th>\n",
       "      <th>lease</th>\n",
       "      <th>source</th>\n",
       "      <th>source_city</th>\n",
       "      <th>source_country</th>\n",
       "      <th>utm_source</th>\n",
       "      <th>utm_medium</th>\n",
       "      <th>des_city</th>\n",
       "      <th>des_country</th>\n",
       "    </tr>\n",
       "  </thead>\n",
       "  <tbody>\n",
       "    <tr>\n",
       "      <th>count</th>\n",
       "      <td>44906</td>\n",
       "      <td>44906</td>\n",
       "      <td>44906</td>\n",
       "      <td>44906</td>\n",
       "      <td>44906</td>\n",
       "      <td>44906</td>\n",
       "      <td>44906</td>\n",
       "      <td>44906</td>\n",
       "      <td>44906</td>\n",
       "      <td>44906</td>\n",
       "      <td>44906</td>\n",
       "      <td>44906</td>\n",
       "    </tr>\n",
       "    <tr>\n",
       "      <th>unique</th>\n",
       "      <td>120</td>\n",
       "      <td>2</td>\n",
       "      <td>31</td>\n",
       "      <td>1837</td>\n",
       "      <td>304</td>\n",
       "      <td>679</td>\n",
       "      <td>4316</td>\n",
       "      <td>185</td>\n",
       "      <td>34</td>\n",
       "      <td>61</td>\n",
       "      <td>218</td>\n",
       "      <td>15</td>\n",
       "    </tr>\n",
       "    <tr>\n",
       "      <th>top</th>\n",
       "      <td>2fca346db656187102ce806ac732e06a62df0dbb2829e5...</td>\n",
       "      <td>LOST</td>\n",
       "      <td>Low availability</td>\n",
       "      <td>£60 - £120 Per week</td>\n",
       "      <td>Full Year Course Stay 40 - 44 weeks</td>\n",
       "      <td>7aae3e886e89fc1187a5c47d6cea1c22998ee610ade1f2...</td>\n",
       "      <td>unknown</td>\n",
       "      <td>e09e10e67812e9d236ad900e5d46b4308fc62f5d69446a...</td>\n",
       "      <td>bbdefa2950f49882f295b1285d4fa9dec45fc4144bfb07...</td>\n",
       "      <td>09076eb7665d1fb9389c7c4517fee0b00e43092eb34821...</td>\n",
       "      <td>ecc0e7dc084f141b29479058967d0bc07dee25d9690a98...</td>\n",
       "      <td>8d23a6e37e0a6431a8f1b43a91026dcff51170a89a6512...</td>\n",
       "    </tr>\n",
       "    <tr>\n",
       "      <th>freq</th>\n",
       "      <td>7725</td>\n",
       "      <td>41894</td>\n",
       "      <td>8501</td>\n",
       "      <td>9750</td>\n",
       "      <td>11000</td>\n",
       "      <td>19092</td>\n",
       "      <td>7420</td>\n",
       "      <td>18667</td>\n",
       "      <td>30873</td>\n",
       "      <td>31501</td>\n",
       "      <td>7144</td>\n",
       "      <td>41577</td>\n",
       "    </tr>\n",
       "  </tbody>\n",
       "</table>\n",
       "</div>"
      ],
      "text/plain": [
       "                                                 Agent_id status  \\\n",
       "count                                               44906  44906   \n",
       "unique                                                120      2   \n",
       "top     2fca346db656187102ce806ac732e06a62df0dbb2829e5...   LOST   \n",
       "freq                                                 7725  41894   \n",
       "\n",
       "             lost_reason               budget  \\\n",
       "count              44906                44906   \n",
       "unique                31                 1837   \n",
       "top     Low availability  £60 - £120 Per week   \n",
       "freq                8501                 9750   \n",
       "\n",
       "                                      lease  \\\n",
       "count                                 44906   \n",
       "unique                                  304   \n",
       "top     Full Year Course Stay 40 - 44 weeks   \n",
       "freq                                  11000   \n",
       "\n",
       "                                                   source source_city  \\\n",
       "count                                               44906       44906   \n",
       "unique                                                679        4316   \n",
       "top     7aae3e886e89fc1187a5c47d6cea1c22998ee610ade1f2...     unknown   \n",
       "freq                                                19092        7420   \n",
       "\n",
       "                                           source_country  \\\n",
       "count                                               44906   \n",
       "unique                                                185   \n",
       "top     e09e10e67812e9d236ad900e5d46b4308fc62f5d69446a...   \n",
       "freq                                                18667   \n",
       "\n",
       "                                               utm_source  \\\n",
       "count                                               44906   \n",
       "unique                                                 34   \n",
       "top     bbdefa2950f49882f295b1285d4fa9dec45fc4144bfb07...   \n",
       "freq                                                30873   \n",
       "\n",
       "                                               utm_medium  \\\n",
       "count                                               44906   \n",
       "unique                                                 61   \n",
       "top     09076eb7665d1fb9389c7c4517fee0b00e43092eb34821...   \n",
       "freq                                                31501   \n",
       "\n",
       "                                                 des_city  \\\n",
       "count                                               44906   \n",
       "unique                                                218   \n",
       "top     ecc0e7dc084f141b29479058967d0bc07dee25d9690a98...   \n",
       "freq                                                 7144   \n",
       "\n",
       "                                              des_country  \n",
       "count                                               44906  \n",
       "unique                                                 15  \n",
       "top     8d23a6e37e0a6431a8f1b43a91026dcff51170a89a6512...  \n",
       "freq                                                41577  "
      ]
     },
     "execution_count": 13,
     "metadata": {},
     "output_type": "execute_result"
    }
   ],
   "source": [
    "df.describe()"
   ]
  },
  {
   "cell_type": "code",
   "execution_count": 14,
   "id": "6e1f51c1",
   "metadata": {
    "scrolled": true
   },
   "outputs": [
    {
     "name": "stdout",
     "output_type": "stream",
     "text": [
      "Only 6.71 % of data is from WON class\n",
      "Rest 93.29 % is from LOST class\n"
     ]
    }
   ],
   "source": [
    "x = df.status.value_counts()\n",
    "\n",
    "won_percentage = round(x.WON / (x.WON + x.LOST) * 100, 2)\n",
    "\n",
    "print(f\"Only {won_percentage} % of data is from WON class\\nRest {100 - won_percentage} % is from LOST class\")\n",
    "\n",
    "# There is a class imbalance. "
   ]
  },
  {
   "cell_type": "code",
   "execution_count": 15,
   "id": "5b3db193",
   "metadata": {
    "scrolled": true
   },
   "outputs": [
    {
     "name": "stdout",
     "output_type": "stream",
     "text": [
      "Agent_id : 120\n",
      "2fca346db656187102ce806ac732e06a62df0dbb2829e511a770556d398e1a6e    7725\n",
      "96ab6152cb421b4d4012a4903c19004608a342a5f7c6671a7828b8ad8d5b9489    1436\n",
      "44864c96fa1c36602f0d045b268981b6cab638a60fc207c89e3bba235f619450    1243\n",
      "fb3e2c0015ad5bcd60d7619ca575a56c15c5d2cd3f01f18e68c4dfaeee585db5    1085\n",
      "eac9815a500f908736d303e23aa227f0957177b0e6756b915a3d3cc3a846b83b    1031\n",
      "64ce47d15992e40da1dd9e37330f1aa90bf11b5878258ae20b5ebd5c11aeb3a3     969\n",
      "ab6bb4584e9946b135dca2e39d12abba3ea82d5ea927d05371cc49b0731261ca     890\n",
      "8e2d91da4e36f2d82d3df133ac8f1f274430573c394b0b4a86cf18190e51cd5a     863\n",
      "f11a7d64cc0201a4ba1e60e00992d074dc6c46680bb7be196073d26e53e45bf1     855\n",
      "4596fcf257c4cd0393947526079ade602ea5a8a5774bf4d01f0f8da2d1bfe16a     831\n",
      "18177338c3669a1314d644b7f4ecfd18a5c735e819edf1e2062c3bc354d0dd7f     823\n",
      "327ec29056cc47c24bf922f7dc0f78261dad5c726d7353a4048aa730e8fabe0f     730\n",
      "b5740f0e88bf42cdae45c073ea5c170e3a422dd3ec257810a29e67b5fafc40c6     726\n",
      "d4192f06768ab0f257c7f5e17ad021b075b995d4a186754a2ca3194ac77df31a     718\n",
      "25b99b9c636ea2d7820f5409c19248e08e87e59d0fb42c5b44ce7695508f0408     714\n",
      "1ea65ea38f2f574b3875ba895e4ff76b284b7725041612dfa0fdcc81d49e0f4f     709\n",
      "1134c0a7d44fdae1afd7f1f64e2789496784095ca0a050947d659c256d331d34     706\n",
      "131127203c89e8219dbdfe2f597538759310f40918b22270401794e1300d2c9d     698\n",
      "1dc43dab243ecfa3cc71b4fbc230ffd813798c72d1d55108c8b954a983d70f3d     669\n",
      "5a39335b3529acae692acc9954d3b3d71f69e84963c9fbe73f927ac102c839b3     663\n",
      "Name: Agent_id, dtype: int64\n",
      "\n",
      "\n",
      "status : 2\n",
      "LOST    41894\n",
      "WON      3012\n",
      "Name: status, dtype: int64\n",
      "\n",
      "\n",
      "lost_reason : 31\n",
      "Low availability                  8501\n",
      "Not responding                    7668\n",
      "Not interested                    6347\n",
      "Low budget                        5319\n",
      "room_booked                       3012\n",
      "Wants private accommodation       2713\n",
      "Short stay                        2236\n",
      "Not a student                     1460\n",
      "Just Enquiring                    1223\n",
      "Semester stay                      810\n",
      "Inadequate details                 785\n",
      "Booked with manager                671\n",
      "Booked on campus accommodation     606\n",
      "Junk lead                          595\n",
      "Supply issue                       512\n",
      "No supply                          480\n",
      "Repeat lead                        382\n",
      "Booked with competitor             351\n",
      "Not going to university            324\n",
      "Not serving in that region         310\n",
      "Name: lost_reason, dtype: int64\n",
      "\n",
      "\n",
      "budget : 1837\n",
      "£60 - £120 Per week     9750\n",
      "£121 - £180 Per Week    8878\n",
      "0-0                     5719\n",
      "unknown                 2338\n",
      "£181 - £240 Per Week    2143\n",
      "100                     1505\n",
      "150                     1086\n",
      "£241 - £300 Per week     709\n",
      "> 300£ Per Week          693\n",
      "200                      638\n",
      "120                      550\n",
      "130                      417\n",
      "160                      385\n",
      "110                      377\n",
      "140                      358\n",
      "180                      357\n",
      "250                      313\n",
      "170                      287\n",
      "500                      276\n",
      "300                      268\n",
      "Name: budget, dtype: int64\n",
      "\n",
      "\n",
      "lease : 304\n",
      "Full Year Course Stay 40 - 44 weeks           11000\n",
      "0                                              7426\n",
      "Complete Education Year Stay 50 - 52 weeks     6451\n",
      "51                                             3932\n",
      "Semester Stay 20 - 24 weeks                    2752\n",
      "Summer/Short Stay 8 - 12 weeks                 2248\n",
      "lease                                          1644\n",
      "full-course-stay                               1217\n",
      "unknown                                        1093\n",
      "full-year-stay                                  956\n",
      "Other                                           932\n",
      "44                                              836\n",
      "51 weeks                                        568\n",
      "semester-stay                                   470\n",
      "short-stay                                      450\n",
      "44 weeks                                        274\n",
      "other                                           169\n",
      "45                                              147\n",
      "43                                              136\n",
      "1                                                90\n",
      "Name: lease, dtype: int64\n",
      "\n",
      "\n",
      "source : 679\n",
      "7aae3e886e89fc1187a5c47d6cea1c22998ee610ade1f2b7c51be879f0c37ca8    19092\n",
      "unknown                                                              4698\n",
      "7bcfca0e9d73371699b0adbf1c691e02108fa64f02f4dbe24a0217f139a9b916     3794\n",
      "ba2d0a29556ac20f86f45e4543c0825428cba33fd7a9eaa29e3f169d2ca43b2b     3585\n",
      "146fb4ecbe78caa24102bbaac12e2559a8c8e32fb116d36e3553a709fce40549     2210\n",
      "d684761c17c11590f6e2525b48141cb2c0c6f2be5df4e229dae06e64c5c41b64     2129\n",
      "9ba9134a91cfc6b52ac8d480e9ad37896ca4ac216e2d795fdb7d75a63d6c60af     2095\n",
      "9fd09dc33545f9cc19b81ebd0b98c4fd8c66ed1e34de89f4c9a81e6b26dc0d54     1010\n",
      "b2b2a0ecb072ed25f1844a3325a810b85689bcc785ddb40dbdcd50a237e40831      893\n",
      "ece6174b48090f929b5c750eb652162e2f0861a90b843446eb61318030aea9b3      633\n",
      "869105a4ce02fc56897c8d7e1eb37736b95e3e826568ae3172eabaf582f69707      530\n",
      "76b7fd432636403ce93adce5cef7871bc24d064c374493aa098686d0be3df5d3      383\n",
      "b5d2d728817d666ce97f6944eae23cff0bae5f81b1917b2e3056d73d9f9fd601      243\n",
      "fce2de0ca752918e030db0b31521693134ecfbf1c32e1402715169aa4bf16086      193\n",
      "dfe8ecc0693503f620f2aa7496c336d1af968dfdcb214341ddc771eda0fafc36      154\n",
      "34fbd3ead861115d5c4b167b42ac12949432632ec3f618ef844d60525dbf2ab1       92\n",
      "eb6329d1696196ed1ba71f6cba5356c8bc4fb18b1f989637fa1e5db83019f830       89\n",
      "5f74d183397778f1be08cc215d26a5e9d394a865773c8e8aa2f2cd88872930ff       88\n",
      "14c1e9997404fd64a464da17c0dd80790490e7b18d32dc9bd5882b411ad4519d       87\n",
      "23e5f58a78e01836546d8a3d35a2758be652d2dfa346fe71004e846849e01b74       83\n",
      "Name: source, dtype: int64\n",
      "\n",
      "\n",
      "source_city : 4316\n",
      "unknown                                                             7420\n",
      "ecc0e7dc084f141b29479058967d0bc07dee25d9690a98ee4e6fdad5168274d7    3020\n",
      "b384863fa1f6e091164b74219726eee0b9dd47776b91a4dc71fd0516630d21ec    1431\n",
      "9f2ba6981e36ea0fca6c16f42e6413d788d2a7499b8b7f418c5d76f12d191f02     854\n",
      "7d1550b844ff586a6023216c06263105eed0a849a2a1f69bb8862ab288d8cdab     752\n",
      "810c069040f6a9b16fdf976a901755508a87cb0224b169d4b5d803357e647947     674\n",
      "4fa64bd55d5c0c1f83015952b4b9500cb099dd0b1b04647f1a7c3c5708295b6e     523\n",
      "282f96b099630502f8bb5033849c69982dd147015853061ed938c2a254fd8dcf     492\n",
      "5e02dadaa7e4cd29809e2f8a115f1e5e9c01b29813a1fb9707218804218da32a     491\n",
      "8593b9db65212160979d946950601c26622a219c80f1f122679eb69ec5b96600     467\n",
      "b2586a6cef5690b74e9fb425f95f8fb3f1e18a4cdc3225eb2f53534ec3602aee     449\n",
      "7b7f15f9ffbeb905caaee265ac39d267d0512ab5333f2fa25d523204af13c5a6     408\n",
      "9b8cc3c63cdf447e463c11544924bf027945cbd29675f77955bb36364356c14e     396\n",
      "11ab03a1a8c367191355c152f39fe28cae5e426fce49efb320230ca4ae3f97a1     378\n",
      "c384826dfbfce62c3fd99a46984a56fe71546a85c2cb6cf12031691b8e038a23     378\n",
      "80bf6cdde4abb4ca65b18dd07ed4f4d7d9c24482eae1fbe58920e0cc2f962388     298\n",
      "3048eb5bfe958b4978251f2f050525d52ce692835a2f3797866b31f3c9752b8b     294\n",
      "ae0cdf8a7d21fe6a9acc2008c445cf05fba1c769f1c18c9c2dcf0ff1bc1e8fc4     286\n",
      "6a5ed83658ef85afc77709cc16ede854ad98e3c2ad8b076e10dcbcd6e5096271     272\n",
      "e7c90b789fe2a7d164bed8d0a5b547c0285e8cdc8eae72830c0f9445eee19e47     251\n",
      "Name: source_city, dtype: int64\n",
      "\n",
      "\n",
      "source_country : 185\n",
      "e09e10e67812e9d236ad900e5d46b4308fc62f5d69446a9750aa698e797e9c96    18667\n",
      "unknown                                                              7214\n",
      "8da82000ef9c4468ba47362a924b895e40662fed846942a1870a674e5c6d1fc2     6955\n",
      "e39b0c5e88f19053d3a917669bc9d60729f351e064ca0c94f5dc73f4e676333f     2008\n",
      "38fe804a1f9ec032ad876bd7192c1f706e1402831e163cf72702b1f451f40cac      992\n",
      "0207c236c5ad89235d814b1e1807f6fdc1930810439489f76600e1672338e42b      461\n",
      "b936ee09e20b3b2234907cde349cda1c1a5327c4a486bf27cee28623bb25bb12      394\n",
      "c2863266ba318106a050f6f52c0a0e5ee19bdbacc19c0965979ae9f2b22354c6      347\n",
      "e28406d05650a1fab7eb01a80ef73a2e3460a214fe48601b63f93d37a65ab966      331\n",
      "cf3a9ac98c81ec1643e418e9647543cff130e4dc0b0b1f8ed8076de51905eaf0      327\n",
      "09e5d1a5b4da2928a104cada82c5cc3fbbb5f97ad3f62d66a6794c2837da974d      318\n",
      "6c05e898769fc65fdadfc33fa7aa23c52e72d7ff6863fc5d5cb61f7637ac6db1      302\n",
      "ef38c2f2eeb87e2cbba80fa7f55f8c08fc75f944cd65f6b7f7b7c3379e6ecaaa      268\n",
      "f24b3e6d69d95512e334bc1cd7d3a80dcd8ffd151c14e97aa06ef132df9e743e      261\n",
      "84ce677eb0e3ddaa4e1595d71e79e1e40bf0081fd2c82cac14af5d32dc4db50a      254\n",
      "becba25996fb45c9fbc92ae870dcf60943e18fbc4e28097bc869f9b33d6daa8b      247\n",
      "f1987974a901281b7c3ed121be5f00af0521f0873bd422f029ee3144fd4099d7      230\n",
      "3f478d7b6fdc3af37e028bed07fce0df5ad853cbd6ca8efa5d9d48e66305d5a2      215\n",
      "dfaa6c4bc17102b34903db6d3b2e666f4c50be11c7ee6e4fed9eb0034bb0e90d      200\n",
      "9f051d9408c62ea48ea4570029a39b62aea5c0be0c08dabfa50a25bb6aef7c07      174\n",
      "Name: source_country, dtype: int64\n",
      "\n",
      "\n",
      "utm_source : 34\n",
      "bbdefa2950f49882f295b1285d4fa9dec45fc4144bfb07ee6acc68762d12c2e3    30873\n",
      "7f3fa48ca885678134842fa7456f3ece53a97f843b610185d900ac4e467c7490     4648\n",
      "3c77f261a156a5308fee53720276395ef78d2e7367e4225a3d3d93f4accd1dd3     1741\n",
      "d15690f08a575024650b01ffac892cfd2b93e6c57c140f1b6d9e47753cabd579     1524\n",
      "9ac56ef275bb33f0f931abd846e53e845a80af8a549100741e928b8b2abd56a7     1250\n",
      "ec8202b6f9fb16f9e26b66367afa4e037752f3c09a18cefab426165e06a424b1     1037\n",
      "4f48c17d2a97a7461a12d0d07336f808e70a1248a7082dbb103047f54090c158      839\n",
      "3d59f7548e1af2151b64135003ce63c0a484c26b9b8b166a7b1c1805ec34b00a      773\n",
      "44574c4ba2ea74ad4bf1e184133cdbf4e7390a3690beff6a7364511a70ec208e      514\n",
      "4688fa9ce4f64d0451be91f30a3de24a1c1c41635bd221694b2a96f9ecd8d717      444\n",
      "5ede56738376a8c53a7c99bf275b077a5c10df780a20cf3d8282fd59a2a9fb56      227\n",
      "7edb360f06acaef2cc80dba16cf563f199d347db4443da04da0c8173e3f9e4ed      172\n",
      "ce43ccb66a63d70dd24b992aedbea52eee4229a1f21ff5ed31592f33ca411101      169\n",
      "dfc547927d5d24adeba89e786ac0ef05ca3e54ba2ef9474f8aa384129e625d2e      156\n",
      "3f40462915a3e6026a4d790127b95ded4d870f6ab18d9af2fcbc454168255237      155\n",
      "3e6f3ef30c9311c7086582f5a7f015c3485ba4d2cbccbb059c19122e2c6ea359      131\n",
      "unknown                                                                61\n",
      "c403c7c6714ba1fb7bd9143d9c6bd1563264a73d8ae0b42c35981083e91fef06       60\n",
      "82244417f956ac7c599f191593f7e441a4fafa20a4158fd52e154f1dc4c8ed92       29\n",
      "5b8eeb90771c2031be0b865d6688c14f7d9dcf7468d8d8d43609cec71358bee9       24\n",
      "Name: utm_source, dtype: int64\n",
      "\n",
      "\n",
      "utm_medium : 61\n",
      "09076eb7665d1fb9389c7c4517fee0b00e43092eb34821b09b5730c41ebcc50c    31501\n",
      "unknown                                                              3112\n",
      "09bc8f0bb77bdddeb98527a39e995c2c605166399c178cb296992abab8415d5b     1757\n",
      "69f81619d0ef92cbb165a44e76f4f0c284d2aa83c318fa7fb632207f68215647     1657\n",
      "82244417f956ac7c599f191593f7e441a4fafa20a4158fd52e154f1dc4c8ed92     1126\n",
      "2bc856d8b9bd2e94d0aacf13e9dac47f9259f8dcf56061896f28dda46081c393     1010\n",
      "abb8e2badd5b6265c3237170cc599257a4f566706715d2e8ed911caf07185447      790\n",
      "08510d8a07a19e4b995447e77c3b1a40c6f21838ecae77448a01d98312a00b6c      652\n",
      "53f80da4f1f3ea38acb886dcb770b60dc8a7241b3e6810b89528481de77e2abe      582\n",
      "268ad70eb5bc4737a2ae28162cbca30118cc94520e49ef1ac5f72c85d3f2caa9      449\n",
      "4ed379d418bb86290a01117e9ceb0debffc4d1b7087db6c04882fbc4e50132f4      421\n",
      "5f98c624a309a8ec6d3b21d5ec8ce65a77fb168d81c92b66a60ba233121eb2ae      357\n",
      "efbfd394ac2dc6f05e74e167113f414b0fa50b64f82dfbbdb63936640332d6d4      292\n",
      "011ac7e62beb8618876336f31a54f18964347d8990202487f5ec2979e91529e8      164\n",
      "4f86ca37dd9e4b9b0c94b2fc9dc36771317ce4593f93f9101e153d164dc87764      134\n",
      "13f4a14f78ff01d0743942840c9a0d547659f5a62f25fd37fac4e94f180fe993      102\n",
      "7a2a71cde64da35e3992fc18205a8ba9364c01f1fc4b919ea15bb1ef93798f9e       78\n",
      "52295b1245bdd00dc88bffdaacfc8f7ed728394e8283402e6896644032ea6d0f       72\n",
      "31e06f7d89feb99a0e6c0affe198748c3bb5bef5e3cc92d95cb9e996197d3fc3       69\n",
      "a98b4dc70229303df0385f5e6a98fda5a867bffb003d3f30cc7d7f6b7f029d43       60\n",
      "Name: utm_medium, dtype: int64\n",
      "\n",
      "\n",
      "des_city : 218\n",
      "ecc0e7dc084f141b29479058967d0bc07dee25d9690a98ee4e6fdad5168274d7    7144\n",
      "810c069040f6a9b16fdf976a901755508a87cb0224b169d4b5d803357e647947    3425\n",
      "11ab03a1a8c367191355c152f39fe28cae5e426fce49efb320230ca4ae3f97a1    3088\n",
      "8593b9db65212160979d946950601c26622a219c80f1f122679eb69ec5b96600    1989\n",
      "unknown                                                             1959\n",
      "6a5ed83658ef85afc77709cc16ede854ad98e3c2ad8b076e10dcbcd6e5096271    1680\n",
      "5e02dadaa7e4cd29809e2f8a115f1e5e9c01b29813a1fb9707218804218da32a    1560\n",
      "9b8cc3c63cdf447e463c11544924bf027945cbd29675f77955bb36364356c14e    1553\n",
      "b2586a6cef5690b74e9fb425f95f8fb3f1e18a4cdc3225eb2f53534ec3602aee    1501\n",
      "5372372f3bf5896820cb2819300c3e681820d82c6efc548fb07bed3a6c83f451    1466\n",
      "085c3a49a31cbfa71c36746a98dc908d30d423a63b969c5a5c7cadefcd92492b    1443\n",
      "c384826dfbfce62c3fd99a46984a56fe71546a85c2cb6cf12031691b8e038a23    1430\n",
      "bf5ade33b5b472c3599473a5cb4e5c7037e4c73296b7e97006edb71f029133b6    1268\n",
      "9edff2628ff7385bffbe7fc9cae89010d2cb9182e805e146de99e99cd4dfce61    1206\n",
      "1b4e390dcd79bc05931bc4a080340fff0ed6eab8c34760043493b972ccaa84cb     785\n",
      "6c5988c3032fffdad757f9ece1a56029a631825d5270013d25d1622ffe5ac5e9     751\n",
      "2baa70fa96081bf1c4c7319e7af4bed170348d9c6821b4db2888d716967550b7     698\n",
      "71b89d8b802ddcc0120ec5352d9c0fe5bde35a3aff101b3536d600218983dfbe     641\n",
      "13d4b96b6ee361b737e22404aeecca45f322ba7d4c2c425b8f31cc85f2d3808a     576\n",
      "4f00c4593da1a548582b1ebe1b922788912eeae54183458938855b650f9eb681     567\n",
      "Name: des_city, dtype: int64\n",
      "\n",
      "\n",
      "des_country : 15\n",
      "8d23a6e37e0a6431a8f1b43a91026dcff51170a89a6512ff098eaa56a4d5fb19    41577\n",
      "unknown                                                              1959\n",
      "02bf1dfa9a0365a86223f0e4ac9eaa0517b06b2e9273790f719feda656a247ae      732\n",
      "80db4ccdca106d37b920206331fcfe3e9e50a9e763d89b54ce3ad5ac8cf30f03      159\n",
      "be55ef3f4c4e6c2d9c2afe2a33ac90ad0f50d4de7f9163999877e2a9ca5a54f8      141\n",
      "7a1ca4ef7515f7276bae7230545829c27810c9d9e98ab2c06066bee6270d5153      114\n",
      "c1ef40ce0484c698eb4bd27fe56c1e7b68d74f9780ed674210d0e5013dae45e9       76\n",
      "5a9cf672c8be6b5ab9546a2fb49b06dd81a4e364c86ed023898c49d9bb0605dc       56\n",
      "49dca65f362fee401292ed7ada96f96295eab1e589c52e4e66bf4aedda715fdd       24\n",
      "8ef41e6f4b07432a0cb4eb7a8774e7a3878fd3e385f49aa09b406768467db228       22\n",
      "abd149214539d9f222d25de6358735b9fa0efd3956f66102b2c119ae2d9f6348       22\n",
      "4c7de2c3da6dc0ae8f9d13b107718a913859359bd30166d077c867577953865d       17\n",
      "3a386c13d283dc2ebbe2aeffc1ab3930d086b28956930d913d8dc58f34c013b7        4\n",
      "2275583196d791405892aaca0d87743c872f3fc0cf3308a6c3ef82528918aa8a        2\n",
      "dd64913c8b91d76ca27b371f0b86fd30452370469b8cadf4e5a61d41d14e42ec        1\n",
      "Name: des_country, dtype: int64\n",
      "\n",
      "\n"
     ]
    }
   ],
   "source": [
    "# Using to 20 categories for each column\n",
    "for col in df.columns:\n",
    "    print(f\"{col} : {len(df[col].unique())}\")\n",
    "    print(df[col].value_counts().head(20))\n",
    "    print('\\n')"
   ]
  },
  {
   "cell_type": "markdown",
   "id": "9060dfdc",
   "metadata": {},
   "source": [
    "#### Using to 20 most occuring categories for each column for one hot encoding."
   ]
  },
  {
   "cell_type": "code",
   "execution_count": 16,
   "id": "0bed55ac",
   "metadata": {},
   "outputs": [],
   "source": [
    "def one_hot_encode_top_n(df, column, n):\n",
    "    \"\"\"\n",
    "    This function performs one hot encoding on the top n categories of a categorical variable in a pandas DataFrame.\n",
    "    If there are only two categories, it drops one category.\n",
    "    \"\"\"\n",
    "    \n",
    "    # Get the frequency count of each category\n",
    "    counts = df[column].value_counts()\n",
    "\n",
    "    # Get the names of the top n categories\n",
    "    top_categories = counts[:n].index.tolist()\n",
    "\n",
    "    # If there are only two categories, drop one category\n",
    "    if len(counts) == 2:\n",
    "        top_categories.pop()\n",
    "\n",
    "    # Create a new column with the top n categories and \"Other\"\n",
    "    df['top_categories'] = df[column].apply(lambda x: x if x in top_categories else 'Other')\n",
    "\n",
    "    # Perform one hot encoding on the top n categories\n",
    "    one_hot_encoded = pd.get_dummies(df['top_categories'], prefix=column)\n",
    "\n",
    "    # Drop the \"Other\" column if it was created\n",
    "    otherName = f\"{column}_Other\"\n",
    "    if otherName in one_hot_encoded.columns:\n",
    "        one_hot_encoded.drop(otherName, axis=1, inplace=True)\n",
    "\n",
    "    # Concatenate the original DataFrame and the encoded features\n",
    "    encoded_df = pd.concat([df, one_hot_encoded], axis=1)\n",
    "\n",
    "    # Drop the original categorical variable and the \"top_categories\" column\n",
    "    encoded_df.drop([column, 'top_categories'], axis=1, inplace=True)\n",
    "\n",
    "    return encoded_df\n"
   ]
  },
  {
   "cell_type": "code",
   "execution_count": 17,
   "id": "5c8aac9c",
   "metadata": {
    "scrolled": true
   },
   "outputs": [
    {
     "name": "stdout",
     "output_type": "stream",
     "text": [
      "(44906, 215)\n"
     ]
    }
   ],
   "source": [
    "def one_hot_encode_all(df, n):\n",
    "\n",
    "    # Identify categorical columns\n",
    "    categorical_cols = df.columns\n",
    "\n",
    "    # Apply one hot encoding to each categorical column\n",
    "    encoded_df = df.copy()\n",
    "    for col in categorical_cols:\n",
    "        encoded_df = one_hot_encode_top_n(encoded_df, col, n)\n",
    "\n",
    "    return encoded_df\n",
    "\n",
    "df_encoded = one_hot_encode_all(df, 20)\n",
    "\n",
    "print(df_encoded.shape)"
   ]
  },
  {
   "cell_type": "code",
   "execution_count": 18,
   "id": "3febda3c",
   "metadata": {},
   "outputs": [],
   "source": [
    "X = df_encoded.drop(['status_LOST'], axis = 1)\n",
    "y = df_encoded[['status_LOST']]"
   ]
  },
  {
   "cell_type": "code",
   "execution_count": 19,
   "id": "dbc7bfe1",
   "metadata": {
    "scrolled": false
   },
   "outputs": [
    {
     "data": {
      "text/plain": [
       "((44906, 214), (44906, 1))"
      ]
     },
     "execution_count": 19,
     "metadata": {},
     "output_type": "execute_result"
    }
   ],
   "source": [
    "X.shape, y.shape"
   ]
  },
  {
   "cell_type": "markdown",
   "id": "254756d0",
   "metadata": {},
   "source": [
    "## Handling class imbalance\n",
    "\n",
    "I am using SMOTEN (Synthetic Minority Over-sampling Technique for Nominal) model for oversampling."
   ]
  },
  {
   "cell_type": "code",
   "execution_count": 20,
   "id": "bd469b59",
   "metadata": {},
   "outputs": [],
   "source": [
    "sampler = SMOTEN(random_state=0)\n",
    "X_res, y_res = sampler.fit_resample(X, y)"
   ]
  },
  {
   "cell_type": "code",
   "execution_count": 21,
   "id": "8b6dd2f7",
   "metadata": {},
   "outputs": [
    {
     "data": {
      "text/plain": [
       "((41894, 215), (41894, 215))"
      ]
     },
     "execution_count": 21,
     "metadata": {},
     "output_type": "execute_result"
    }
   ],
   "source": [
    "# Created synthetic entry for signal WON, now each class has 41894 rows each\n",
    "\n",
    "test = pd.concat([X_res, y_res], axis = 1)\n",
    "test[test['status_LOST'] == 1].shape, test[test['status_LOST'] == 0].shape"
   ]
  },
  {
   "cell_type": "code",
   "execution_count": 22,
   "id": "2fd7c41d",
   "metadata": {},
   "outputs": [
    {
     "data": {
      "text/plain": [
       "((83788, 214), (83788, 1))"
      ]
     },
     "execution_count": 22,
     "metadata": {},
     "output_type": "execute_result"
    }
   ],
   "source": [
    "X_res.shape, y_res.shape"
   ]
  },
  {
   "cell_type": "code",
   "execution_count": 23,
   "id": "33ac5299",
   "metadata": {},
   "outputs": [],
   "source": [
    "# Using chi2 selector for selecting top 50 features.\n",
    "\n",
    "selector = SelectKBest(chi2, k=50)\n",
    "X_new = selector.fit_transform(X_res, y_res)"
   ]
  },
  {
   "cell_type": "code",
   "execution_count": 24,
   "id": "6ffa6e17",
   "metadata": {
    "scrolled": true
   },
   "outputs": [
    {
     "name": "stdout",
     "output_type": "stream",
     "text": [
      "Feature 0: 96.135524\n",
      "Feature 1: 61.881188\n",
      "Feature 2: 67.207792\n",
      "Feature 3: 525.633782\n",
      "Feature 4: 461.122734\n",
      "Feature 5: 361.053985\n",
      "Feature 6: 7725.000000\n",
      "Feature 7: 540.252055\n",
      "Feature 8: 32.738815\n",
      "Feature 9: 63.570008\n",
      "Feature 10: 509.141780\n",
      "Feature 11: 698.997936\n",
      "Feature 12: 312.559776\n",
      "Feature 13: 81.565117\n",
      "Feature 14: 655.838202\n",
      "Feature 15: 343.299135\n",
      "Feature 16: 194.604520\n",
      "Feature 17: 766.557711\n",
      "Feature 18: 348.669647\n",
      "Feature 19: 788.594470\n",
      "Feature 20: 606.000000\n",
      "Feature 21: 351.000000\n",
      "Feature 22: 671.000000\n",
      "Feature 23: 785.000000\n",
      "Feature 24: 595.000000\n",
      "Feature 25: 1223.000000\n",
      "Feature 26: 8501.000000\n",
      "Feature 27: 5319.000000\n",
      "Feature 28: 480.000000\n",
      "Feature 29: 1460.000000\n",
      "Feature 30: 324.000000\n",
      "Feature 31: 6347.000000\n",
      "Feature 32: 7668.000000\n",
      "Feature 33: 310.000000\n",
      "Feature 34: 382.000000\n",
      "Feature 35: 810.000000\n",
      "Feature 36: 2236.000000\n",
      "Feature 37: 512.000000\n",
      "Feature 38: 2713.000000\n",
      "Feature 39: 41894.000000\n",
      "Feature 40: 1282.065664\n",
      "Feature 41: 1070.035132\n",
      "Feature 42: 326.793103\n",
      "Feature 43: 418.909091\n",
      "Feature 44: 285.431655\n",
      "Feature 45: 278.927374\n",
      "Feature 46: 831.833787\n",
      "Feature 47: 277.737662\n",
      "Feature 48: 205.745645\n",
      "Feature 49: 214.880829\n",
      "Feature 50: 560.507837\n",
      "Feature 51: 255.875399\n",
      "Feature 52: 197.388060\n",
      "Feature 53: 260.231884\n",
      "Feature 54: 354.667925\n",
      "Feature 55: 1078.252027\n",
      "Feature 56: 17.951805\n",
      "Feature 57: 997.592170\n",
      "Feature 58: 518.485792\n",
      "Feature 59: 858.317162\n",
      "Feature 60: 2125.776691\n",
      "Feature 61: 90.000000\n",
      "Feature 62: 78.724816\n",
      "Feature 63: 1592.157635\n",
      "Feature 64: 1.973684\n",
      "Feature 65: 511.622010\n",
      "Feature 66: 2213.772762\n",
      "Feature 67: 18.600349\n",
      "Feature 68: 653.770473\n",
      "Feature 69: 45.104022\n",
      "Feature 70: 820.695652\n",
      "Feature 71: 786.514604\n",
      "Feature 72: 364.233227\n",
      "Feature 73: 480.129032\n",
      "Feature 74: 677.580078\n",
      "Feature 75: 165.023669\n",
      "Feature 76: 404.326403\n",
      "Feature 77: 434.142222\n",
      "Feature 78: 164.663317\n",
      "Feature 79: 1076.794930\n",
      "Feature 80: 61.252874\n",
      "Feature 81: 83.000000\n",
      "Feature 82: 69.565217\n",
      "Feature 83: 69.136364\n",
      "Feature 84: 269.036554\n",
      "Feature 85: 142.724380\n",
      "Feature 86: 1793.260410\n",
      "Feature 87: 441.992453\n",
      "Feature 88: 1639.306131\n",
      "Feature 89: 365.963855\n",
      "Feature 90: 90.376119\n",
      "Feature 91: 162.881423\n",
      "Feature 92: 614.448385\n",
      "Feature 93: 8.852788\n",
      "Feature 94: 138.415584\n",
      "Feature 95: 89.000000\n",
      "Feature 96: 458.958926\n",
      "Feature 97: 31.889764\n",
      "Feature 98: 1389.398896\n",
      "Feature 99: 267.523810\n",
      "Feature 100: 368.853659\n",
      "Feature 101: 262.870748\n",
      "Feature 102: 435.045889\n",
      "Feature 103: 199.333925\n",
      "Feature 104: 222.485294\n",
      "Feature 105: 0.408769\n",
      "Feature 106: 522.085133\n",
      "Feature 107: 274.483221\n",
      "Feature 108: 478.670623\n",
      "Feature 109: 365.244111\n",
      "Feature 110: 275.000000\n",
      "Feature 111: 497.347357\n",
      "Feature 112: 225.580420\n",
      "Feature 113: 337.017817\n",
      "Feature 114: 847.000000\n",
      "Feature 115: 216.090000\n",
      "Feature 116: 164.179283\n",
      "Feature 117: 49.203200\n",
      "Feature 118: 109.564200\n",
      "Feature 119: 395.507592\n",
      "Feature 120: 271.811321\n",
      "Feature 121: 765.061538\n",
      "Feature 122: 162.646512\n",
      "Feature 123: 252.238411\n",
      "Feature 124: 176.944882\n",
      "Feature 125: 1816.725159\n",
      "Feature 126: 129.310345\n",
      "Feature 127: 339.989848\n",
      "Feature 128: 197.736842\n",
      "Feature 129: 26.384314\n",
      "Feature 130: 315.110092\n",
      "Feature 131: 147.920000\n",
      "Feature 132: 375.381167\n",
      "Feature 133: 134.283820\n",
      "Feature 134: 1154.311964\n",
      "Feature 135: 240.731343\n",
      "Feature 136: 191.739130\n",
      "Feature 137: 229.980843\n",
      "Feature 138: 81.740747\n",
      "Feature 139: 195.477539\n",
      "Feature 140: 621.360939\n",
      "Feature 141: 127.030534\n",
      "Feature 142: 139.412903\n",
      "Feature 143: 2925.404517\n",
      "Feature 144: 374.918919\n",
      "Feature 145: 775.698824\n",
      "Feature 146: 16.666667\n",
      "Feature 147: 203.634361\n",
      "Feature 148: 134.325581\n",
      "Feature 149: 1516.528101\n",
      "Feature 150: 29.000000\n",
      "Feature 151: 844.194611\n",
      "Feature 152: 163.283086\n",
      "Feature 153: 60.000000\n",
      "Feature 154: 153.378698\n",
      "Feature 155: 220.905473\n",
      "Feature 156: 148.102564\n",
      "Feature 157: 378.644654\n",
      "Feature 158: 49.590164\n",
      "Feature 159: 144.609756\n",
      "Feature 160: 111.581818\n",
      "Feature 161: 186.350969\n",
      "Feature 162: 708.911416\n",
      "Feature 163: 5.018433\n",
      "Feature 164: 308.802062\n",
      "Feature 165: 365.963855\n",
      "Feature 166: 65.057971\n",
      "Feature 167: 405.152019\n",
      "Feature 168: 5.451613\n",
      "Feature 169: 72.000000\n",
      "Feature 170: 230.388039\n",
      "Feature 171: 288.630252\n",
      "Feature 172: 1140.624781\n",
      "Feature 173: 70.205128\n",
      "Feature 174: 760.396040\n",
      "Feature 175: 60.000000\n",
      "Feature 176: 786.005063\n",
      "Feature 177: 257.109589\n",
      "Feature 178: 1334.272457\n",
      "Feature 179: 28.532965\n",
      "Feature 180: 105.981352\n",
      "Feature 181: 572.006944\n",
      "Feature 182: 387.760131\n",
      "Feature 183: 0.801252\n",
      "Feature 184: 563.007055\n",
      "Feature 185: 940.627604\n",
      "Feature 186: 1540.064103\n",
      "Feature 187: 450.697502\n",
      "Feature 188: 168.965517\n",
      "Feature 189: 258.151432\n",
      "Feature 190: 930.267360\n",
      "Feature 191: 1130.855019\n",
      "Feature 192: 251.660516\n",
      "Feature 193: 1198.013267\n",
      "Feature 194: 751.743919\n",
      "Feature 195: 477.534704\n",
      "Feature 196: 905.083734\n",
      "Feature 197: 2862.063658\n",
      "Feature 198: 1016.072688\n",
      "Feature 199: 728.005464\n",
      "Feature 200: 2.000000\n",
      "Feature 201: 4.000000\n",
      "Feature 202: 24.000000\n",
      "Feature 203: 17.000000\n",
      "Feature 204: 52.071429\n",
      "Feature 205: 114.000000\n",
      "Feature 206: 49.280193\n",
      "Feature 207: 98.058981\n",
      "Feature 208: 22.000000\n",
      "Feature 209: 22.000000\n",
      "Feature 210: 141.000000\n",
      "Feature 211: 60.842105\n",
      "Feature 212: 1.000000\n",
      "Feature 213: 1016.072688\n"
     ]
    }
   ],
   "source": [
    "for i in range(len(selector.scores_)):\n",
    "    print('Feature %d: %f' % (i, selector.scores_[i])) "
   ]
  },
  {
   "cell_type": "code",
   "execution_count": 25,
   "id": "69cbb894",
   "metadata": {},
   "outputs": [
    {
     "data": {
      "text/plain": [
       "(83788, 50)"
      ]
     },
     "execution_count": 25,
     "metadata": {},
     "output_type": "execute_result"
    }
   ],
   "source": [
    "X_new.shape"
   ]
  },
  {
   "cell_type": "markdown",
   "id": "d75010f9",
   "metadata": {},
   "source": [
    "## Training the model"
   ]
  },
  {
   "cell_type": "code",
   "execution_count": 52,
   "id": "5f38ac00",
   "metadata": {
    "scrolled": true
   },
   "outputs": [],
   "source": [
    "X_train, X_test, y_train, y_test = train_test_split(X_new, y_res, test_size=0.33, random_state=42)"
   ]
  },
  {
   "cell_type": "code",
   "execution_count": 53,
   "id": "ad2a9084",
   "metadata": {},
   "outputs": [
    {
     "data": {
      "text/plain": [
       "((56137, 50), (27651, 1))"
      ]
     },
     "execution_count": 53,
     "metadata": {},
     "output_type": "execute_result"
    }
   ],
   "source": [
    "X_train.shape, y_test.shape"
   ]
  },
  {
   "cell_type": "code",
   "execution_count": 54,
   "id": "0e9822d6",
   "metadata": {
    "scrolled": true
   },
   "outputs": [
    {
     "data": {
      "text/html": [
       "<style>#sk-container-id-5 {color: black;background-color: white;}#sk-container-id-5 pre{padding: 0;}#sk-container-id-5 div.sk-toggleable {background-color: white;}#sk-container-id-5 label.sk-toggleable__label {cursor: pointer;display: block;width: 100%;margin-bottom: 0;padding: 0.3em;box-sizing: border-box;text-align: center;}#sk-container-id-5 label.sk-toggleable__label-arrow:before {content: \"▸\";float: left;margin-right: 0.25em;color: #696969;}#sk-container-id-5 label.sk-toggleable__label-arrow:hover:before {color: black;}#sk-container-id-5 div.sk-estimator:hover label.sk-toggleable__label-arrow:before {color: black;}#sk-container-id-5 div.sk-toggleable__content {max-height: 0;max-width: 0;overflow: hidden;text-align: left;background-color: #f0f8ff;}#sk-container-id-5 div.sk-toggleable__content pre {margin: 0.2em;color: black;border-radius: 0.25em;background-color: #f0f8ff;}#sk-container-id-5 input.sk-toggleable__control:checked~div.sk-toggleable__content {max-height: 200px;max-width: 100%;overflow: auto;}#sk-container-id-5 input.sk-toggleable__control:checked~label.sk-toggleable__label-arrow:before {content: \"▾\";}#sk-container-id-5 div.sk-estimator input.sk-toggleable__control:checked~label.sk-toggleable__label {background-color: #d4ebff;}#sk-container-id-5 div.sk-label input.sk-toggleable__control:checked~label.sk-toggleable__label {background-color: #d4ebff;}#sk-container-id-5 input.sk-hidden--visually {border: 0;clip: rect(1px 1px 1px 1px);clip: rect(1px, 1px, 1px, 1px);height: 1px;margin: -1px;overflow: hidden;padding: 0;position: absolute;width: 1px;}#sk-container-id-5 div.sk-estimator {font-family: monospace;background-color: #f0f8ff;border: 1px dotted black;border-radius: 0.25em;box-sizing: border-box;margin-bottom: 0.5em;}#sk-container-id-5 div.sk-estimator:hover {background-color: #d4ebff;}#sk-container-id-5 div.sk-parallel-item::after {content: \"\";width: 100%;border-bottom: 1px solid gray;flex-grow: 1;}#sk-container-id-5 div.sk-label:hover label.sk-toggleable__label {background-color: #d4ebff;}#sk-container-id-5 div.sk-serial::before {content: \"\";position: absolute;border-left: 1px solid gray;box-sizing: border-box;top: 0;bottom: 0;left: 50%;z-index: 0;}#sk-container-id-5 div.sk-serial {display: flex;flex-direction: column;align-items: center;background-color: white;padding-right: 0.2em;padding-left: 0.2em;position: relative;}#sk-container-id-5 div.sk-item {position: relative;z-index: 1;}#sk-container-id-5 div.sk-parallel {display: flex;align-items: stretch;justify-content: center;background-color: white;position: relative;}#sk-container-id-5 div.sk-item::before, #sk-container-id-5 div.sk-parallel-item::before {content: \"\";position: absolute;border-left: 1px solid gray;box-sizing: border-box;top: 0;bottom: 0;left: 50%;z-index: -1;}#sk-container-id-5 div.sk-parallel-item {display: flex;flex-direction: column;z-index: 1;position: relative;background-color: white;}#sk-container-id-5 div.sk-parallel-item:first-child::after {align-self: flex-end;width: 50%;}#sk-container-id-5 div.sk-parallel-item:last-child::after {align-self: flex-start;width: 50%;}#sk-container-id-5 div.sk-parallel-item:only-child::after {width: 0;}#sk-container-id-5 div.sk-dashed-wrapped {border: 1px dashed gray;margin: 0 0.4em 0.5em 0.4em;box-sizing: border-box;padding-bottom: 0.4em;background-color: white;}#sk-container-id-5 div.sk-label label {font-family: monospace;font-weight: bold;display: inline-block;line-height: 1.2em;}#sk-container-id-5 div.sk-label-container {text-align: center;}#sk-container-id-5 div.sk-container {/* jupyter's `normalize.less` sets `[hidden] { display: none; }` but bootstrap.min.css set `[hidden] { display: none !important; }` so we also need the `!important` here to be able to override the default hidden behavior on the sphinx rendered scikit-learn.org. See: https://github.com/scikit-learn/scikit-learn/issues/21755 */display: inline-block !important;position: relative;}#sk-container-id-5 div.sk-text-repr-fallback {display: none;}</style><div id=\"sk-container-id-5\" class=\"sk-top-container\"><div class=\"sk-text-repr-fallback\"><pre>DecisionTreeClassifier()</pre><b>In a Jupyter environment, please rerun this cell to show the HTML representation or trust the notebook. <br />On GitHub, the HTML representation is unable to render, please try loading this page with nbviewer.org.</b></div><div class=\"sk-container\" hidden><div class=\"sk-item\"><div class=\"sk-estimator sk-toggleable\"><input class=\"sk-toggleable__control sk-hidden--visually\" id=\"sk-estimator-id-5\" type=\"checkbox\" checked><label for=\"sk-estimator-id-5\" class=\"sk-toggleable__label sk-toggleable__label-arrow\">DecisionTreeClassifier</label><div class=\"sk-toggleable__content\"><pre>DecisionTreeClassifier()</pre></div></div></div></div></div>"
      ],
      "text/plain": [
       "DecisionTreeClassifier()"
      ]
     },
     "execution_count": 54,
     "metadata": {},
     "output_type": "execute_result"
    }
   ],
   "source": [
    "classifier = DecisionTreeClassifier()\n",
    "classifier.fit(X_train, y_train)"
   ]
  },
  {
   "cell_type": "code",
   "execution_count": 55,
   "id": "06324354",
   "metadata": {},
   "outputs": [],
   "source": [
    "y_pred = classifier.predict(X_test)"
   ]
  },
  {
   "cell_type": "code",
   "execution_count": 46,
   "id": "aac4d694",
   "metadata": {},
   "outputs": [
    {
     "name": "stderr",
     "output_type": "stream",
     "text": [
      "E:\\CODE\\MachineLearning\\uniacco-datascience\\env\\lib\\site-packages\\sklearn\\neighbors\\_classification.py:215: DataConversionWarning: A column-vector y was passed when a 1d array was expected. Please change the shape of y to (n_samples,), for example using ravel().\n",
      "  return self._fit(X, y)\n"
     ]
    },
    {
     "data": {
      "text/html": [
       "<style>#sk-container-id-4 {color: black;background-color: white;}#sk-container-id-4 pre{padding: 0;}#sk-container-id-4 div.sk-toggleable {background-color: white;}#sk-container-id-4 label.sk-toggleable__label {cursor: pointer;display: block;width: 100%;margin-bottom: 0;padding: 0.3em;box-sizing: border-box;text-align: center;}#sk-container-id-4 label.sk-toggleable__label-arrow:before {content: \"▸\";float: left;margin-right: 0.25em;color: #696969;}#sk-container-id-4 label.sk-toggleable__label-arrow:hover:before {color: black;}#sk-container-id-4 div.sk-estimator:hover label.sk-toggleable__label-arrow:before {color: black;}#sk-container-id-4 div.sk-toggleable__content {max-height: 0;max-width: 0;overflow: hidden;text-align: left;background-color: #f0f8ff;}#sk-container-id-4 div.sk-toggleable__content pre {margin: 0.2em;color: black;border-radius: 0.25em;background-color: #f0f8ff;}#sk-container-id-4 input.sk-toggleable__control:checked~div.sk-toggleable__content {max-height: 200px;max-width: 100%;overflow: auto;}#sk-container-id-4 input.sk-toggleable__control:checked~label.sk-toggleable__label-arrow:before {content: \"▾\";}#sk-container-id-4 div.sk-estimator input.sk-toggleable__control:checked~label.sk-toggleable__label {background-color: #d4ebff;}#sk-container-id-4 div.sk-label input.sk-toggleable__control:checked~label.sk-toggleable__label {background-color: #d4ebff;}#sk-container-id-4 input.sk-hidden--visually {border: 0;clip: rect(1px 1px 1px 1px);clip: rect(1px, 1px, 1px, 1px);height: 1px;margin: -1px;overflow: hidden;padding: 0;position: absolute;width: 1px;}#sk-container-id-4 div.sk-estimator {font-family: monospace;background-color: #f0f8ff;border: 1px dotted black;border-radius: 0.25em;box-sizing: border-box;margin-bottom: 0.5em;}#sk-container-id-4 div.sk-estimator:hover {background-color: #d4ebff;}#sk-container-id-4 div.sk-parallel-item::after {content: \"\";width: 100%;border-bottom: 1px solid gray;flex-grow: 1;}#sk-container-id-4 div.sk-label:hover label.sk-toggleable__label {background-color: #d4ebff;}#sk-container-id-4 div.sk-serial::before {content: \"\";position: absolute;border-left: 1px solid gray;box-sizing: border-box;top: 0;bottom: 0;left: 50%;z-index: 0;}#sk-container-id-4 div.sk-serial {display: flex;flex-direction: column;align-items: center;background-color: white;padding-right: 0.2em;padding-left: 0.2em;position: relative;}#sk-container-id-4 div.sk-item {position: relative;z-index: 1;}#sk-container-id-4 div.sk-parallel {display: flex;align-items: stretch;justify-content: center;background-color: white;position: relative;}#sk-container-id-4 div.sk-item::before, #sk-container-id-4 div.sk-parallel-item::before {content: \"\";position: absolute;border-left: 1px solid gray;box-sizing: border-box;top: 0;bottom: 0;left: 50%;z-index: -1;}#sk-container-id-4 div.sk-parallel-item {display: flex;flex-direction: column;z-index: 1;position: relative;background-color: white;}#sk-container-id-4 div.sk-parallel-item:first-child::after {align-self: flex-end;width: 50%;}#sk-container-id-4 div.sk-parallel-item:last-child::after {align-self: flex-start;width: 50%;}#sk-container-id-4 div.sk-parallel-item:only-child::after {width: 0;}#sk-container-id-4 div.sk-dashed-wrapped {border: 1px dashed gray;margin: 0 0.4em 0.5em 0.4em;box-sizing: border-box;padding-bottom: 0.4em;background-color: white;}#sk-container-id-4 div.sk-label label {font-family: monospace;font-weight: bold;display: inline-block;line-height: 1.2em;}#sk-container-id-4 div.sk-label-container {text-align: center;}#sk-container-id-4 div.sk-container {/* jupyter's `normalize.less` sets `[hidden] { display: none; }` but bootstrap.min.css set `[hidden] { display: none !important; }` so we also need the `!important` here to be able to override the default hidden behavior on the sphinx rendered scikit-learn.org. See: https://github.com/scikit-learn/scikit-learn/issues/21755 */display: inline-block !important;position: relative;}#sk-container-id-4 div.sk-text-repr-fallback {display: none;}</style><div id=\"sk-container-id-4\" class=\"sk-top-container\"><div class=\"sk-text-repr-fallback\"><pre>KNeighborsClassifier()</pre><b>In a Jupyter environment, please rerun this cell to show the HTML representation or trust the notebook. <br />On GitHub, the HTML representation is unable to render, please try loading this page with nbviewer.org.</b></div><div class=\"sk-container\" hidden><div class=\"sk-item\"><div class=\"sk-estimator sk-toggleable\"><input class=\"sk-toggleable__control sk-hidden--visually\" id=\"sk-estimator-id-4\" type=\"checkbox\" checked><label for=\"sk-estimator-id-4\" class=\"sk-toggleable__label sk-toggleable__label-arrow\">KNeighborsClassifier</label><div class=\"sk-toggleable__content\"><pre>KNeighborsClassifier()</pre></div></div></div></div></div>"
      ],
      "text/plain": [
       "KNeighborsClassifier()"
      ]
     },
     "execution_count": 46,
     "metadata": {},
     "output_type": "execute_result"
    }
   ],
   "source": [
    "from sklearn.neighbors import KNeighborsClassifier\n",
    "\n",
    "knn = KNeighborsClassifier(n_neighbors=5)\n",
    "\n",
    "knn.fit(X_train, y_train)"
   ]
  },
  {
   "cell_type": "code",
   "execution_count": 47,
   "id": "31956c40",
   "metadata": {},
   "outputs": [],
   "source": [
    "y_pred_knn = knn.predict(X_test)"
   ]
  },
  {
   "cell_type": "markdown",
   "id": "153a0fde",
   "metadata": {},
   "source": [
    "## Evaluating"
   ]
  },
  {
   "cell_type": "code",
   "execution_count": 48,
   "id": "a6e5f6d6",
   "metadata": {
    "scrolled": true
   },
   "outputs": [
    {
     "name": "stdout",
     "output_type": "stream",
     "text": [
      "[[  868   126]\n",
      " [   23 13802]]\n"
     ]
    }
   ],
   "source": [
    "# Confusion matrix for knn\n",
    "print(confusion_matrix(y_test, y_pred_knn))"
   ]
  },
  {
   "cell_type": "code",
   "execution_count": 56,
   "id": "510c9f83",
   "metadata": {
    "scrolled": true
   },
   "outputs": [
    {
     "name": "stdout",
     "output_type": "stream",
     "text": [
      "[[13853     0]\n",
      " [    0 13798]]\n"
     ]
    }
   ],
   "source": [
    "# Confusion matrix for Decision Tree\n",
    "print(confusion_matrix(y_test, y_pred))"
   ]
  },
  {
   "cell_type": "code",
   "execution_count": 50,
   "id": "ea7a3c49",
   "metadata": {
    "scrolled": false
   },
   "outputs": [
    {
     "name": "stdout",
     "output_type": "stream",
     "text": [
      "              precision    recall  f1-score   support\n",
      "\n",
      "           0       1.00      1.00      1.00       994\n",
      "           1       1.00      1.00      1.00     13825\n",
      "\n",
      "    accuracy                           1.00     14819\n",
      "   macro avg       1.00      1.00      1.00     14819\n",
      "weighted avg       1.00      1.00      1.00     14819\n",
      "\n"
     ]
    }
   ],
   "source": [
    "# classification report for Decision Tree\n",
    "print(classification_report(y_test, y_pred))"
   ]
  },
  {
   "cell_type": "code",
   "execution_count": 51,
   "id": "8ff84355",
   "metadata": {
    "scrolled": false
   },
   "outputs": [
    {
     "name": "stdout",
     "output_type": "stream",
     "text": [
      "F1 Score knn             : 0.995\n",
      "F1 Score Decision Tree   : 1.000\n"
     ]
    }
   ],
   "source": [
    "print('F1 Score knn             : {:.3f}'.format(f1_score(y_test, y_pred_knn)))\n",
    "print('F1 Score Decision Tree   : {:.3f}'.format(f1_score(y_test, y_pred)))"
   ]
  },
  {
   "cell_type": "markdown",
   "id": "9ee6fcf7",
   "metadata": {},
   "source": [
    "## Observations\n",
    "\n",
    "The model seems to be performing exceptionally well, it may be overfitted."
   ]
  }
 ],
 "metadata": {
  "kernelspec": {
   "display_name": "env",
   "language": "python",
   "name": "env"
  },
  "language_info": {
   "codemirror_mode": {
    "name": "ipython",
    "version": 3
   },
   "file_extension": ".py",
   "mimetype": "text/x-python",
   "name": "python",
   "nbconvert_exporter": "python",
   "pygments_lexer": "ipython3",
   "version": "3.8.10"
  }
 },
 "nbformat": 4,
 "nbformat_minor": 5
}
